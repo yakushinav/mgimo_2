{
  "cells": [
    {
      "cell_type": "markdown",
      "id": "1d1f7974",
      "metadata": {
        "id": "1d1f7974"
      },
      "source": [
        "# Рекомендательная система \"Подбор объектов недвижимости\"\n",
        "\n",
        "Набор данных Bangalore House Price\n"
      ]
    },
    {
      "cell_type": "markdown",
      "id": "13b6fdf6",
      "metadata": {
        "id": "13b6fdf6"
      },
      "source": [
        "- AREA_TYPE : тип района, где расположен объект недвижимости.\n",
        "- AVAILABILITY : доступна ли недвижимость в настоящее время или нет.\n",
        "- LOCATION : Место, где находится недвижимость.\n",
        "- SIZE : Количество спален\n",
        "- SOCIETY : Тип района, в котором находится собственность.\n",
        "- TOTAL_SQFT : общая площадь объекта в квадратных футах.\n",
        "- BATH : Количество ванных комнат\n",
        "- BALCONY : Количество балконов\n",
        "- PRICE : Стоимость недвижимости в лакхах¶"
      ]
    },
    {
      "cell_type": "code",
      "source": [
        "import pandas as pd\n",
        "import numpy as np\n",
        "from sklearn.neighbors import NearestNeighbors\n",
        "from sklearn.preprocessing import LabelEncoder\n",
        "from joblib import dump\n",
        "import difflib\n",
        "pd.set_option('future.no_silent_downcasting', True)"
      ],
      "metadata": {
        "id": "Ln-65asfL7uo"
      },
      "id": "Ln-65asfL7uo",
      "execution_count": 10,
      "outputs": []
    },
    {
      "cell_type": "code",
      "execution_count": 7,
      "id": "ef3cbe2c",
      "metadata": {
        "id": "ef3cbe2c"
      },
      "outputs": [],
      "source": [
        "class ML_MODEL():\n",
        "    def __init__(self,filename):\n",
        "        self.filename=filename\n",
        "        # Читаем набор данных\n",
        "        self.df = pd.read_csv(filename)\n",
        "\n",
        "    def get_clean_data(self):\n",
        "        # Данный метод:\n",
        "        # 1. Читает набор данных в csv\n",
        "        # 2. Выполняет очистку данных, чтобы не было пропусков и нечисловых полей\n",
        "        # Данное поле содержит очень много пропусков, удаляем\n",
        "        self.df.drop('society',axis=1,inplace=True)\n",
        "        # Заменяем пропуски в данных\n",
        "        self.df['location']=self.df['location'].replace(to_replace=np.nan, value=self.df.location.mode()[0])\n",
        "\n",
        "        self.df['area_type']=self.df['area_type'].replace(to_replace=np.nan, value=self.df.area_type.mode()[0])\n",
        "        self.df['size']=self.df['size'].str.split(' ',expand=True)[0]\n",
        "        self.df['size'] = self.df['size'].fillna(1)\n",
        "        self.df['bath'] = self.df['bath'].fillna(1)\n",
        "        self.df['balcony'] = self.df['balcony'].fillna(0)\n",
        "        self.df.availability=(self.df.availability=='Ready To Move')\n",
        "        self.df['availability']=self.df['availability'].replace({True:1,False:0})\n",
        "\n",
        "        #Заменяем пропуски в данных на основе интерполяции\n",
        "        self.df['total_sqft'] = self.df['total_sqft'].interpolate(method='polynomial', order=2)\n",
        "        self.df['price'] = self.df['price'].interpolate(method='polynomial', order=2)\n",
        "        # на этом шаге сохраним набор очищенный набор данных\n",
        "        # Далее заменяем категориальные данные на числовые коды\n",
        "        encoder = {}\n",
        "        encoder[\"area_type\"]=LabelEncoder().fit(self.df['area_type'])\n",
        "        encoder['location']=LabelEncoder().fit(self.df['location'])\n",
        "        self.df['area_type'] = encoder[\"area_type\"].transform(self.df['area_type'])\n",
        "        self.df['location'] = encoder[\"location\"].transform(self.df['location'])\n",
        "        return self.df, encoder\n",
        "\n",
        "    def build_model(self):\n",
        "        # Строим модель обучения по методу ближайших соседей\n",
        "        # Сохраняем скомпилированную модель в файл\n",
        "        self.model = NearestNeighbors(metric='cosine')\n",
        "        self.model.fit(self.df)\n",
        "        return self.model\n"
      ]
    },
    {
      "cell_type": "code",
      "execution_count": 34,
      "id": "2a9ebae6",
      "metadata": {
        "id": "2a9ebae6"
      },
      "outputs": [],
      "source": [
        "class VIEW():\n",
        "    def __init__(self,data,encoder):\n",
        "        self.df=data\n",
        "        self.encoder=encoder\n",
        "\n",
        "    def get_simp(self, s, lst):\n",
        "        #Выбирает название из списка максимально похожее на ввод пользователя\n",
        "        normalized1 = s.lower()\n",
        "        mratio=0\n",
        "        simp=0\n",
        "        for k in range(len(lst)):\n",
        "        # Нормализуем элемент списка значений категории\n",
        "            normalized2 = lst[k].lower()\n",
        "        # Определяем близость текущего элемента списка значений категории и ввода пользователя\n",
        "            matcher = difflib.SequenceMatcher(None, normalized1, normalized2)\n",
        "            r= matcher.ratio()\n",
        "        # Ищем максимально близкий элемент списка значений категории (с самым высоким рейтингом)\n",
        "            if r>mratio:\n",
        "                mratio=r\n",
        "                simp=k\n",
        "        return simp\n",
        "\n",
        "    def get_user_data(self):\n",
        "        X = {'area_type': 0,\n",
        "             'availability': 1,\n",
        "             'location': 300,\n",
        "             'size': 2,\n",
        "             'total_sqft': 300,\n",
        "             'bath': 1,\n",
        "             'balcony': 1,\n",
        "             'price': 300}\n",
        "        print(\"Введите данные для подбора объекта недвижимости:\")\n",
        "\n",
        "        print('Тип объекта недвижимости')\n",
        "        lst=self.df['area_type'].unique()\n",
        "        lst=self.encoder['area_type'].inverse_transform(self.df['area_type'].unique())\n",
        "        print('У нас в базе есть следующие типы:\\n',\"\\n\".join(lst))\n",
        "        choose=input(\"Введите тип объекта недвижимости: \")\n",
        "        X['area_type']=self.get_simp(choose,lst)\n",
        "\n",
        "        return X\n",
        "\n",
        "    def get_objects_number(self):\n",
        "        choose=int(input('Введите количество объектов в рекомендации: '))\n",
        "        return choose\n",
        "\n",
        "    def print_recomendation(self,lst):\n",
        "        print('Вашему запросу соответствуют следующие объекты недвижимости:')\n",
        "        for x in lst:\n",
        "            print(\"---------\",x,\"------------\")\n",
        "            res=self.df.loc[x,:].copy()\n",
        "            res['area_type']=self.encoder['area_type'].inverse_transform([res['area_type']])\n",
        "            print(res)\n",
        ""
      ]
    },
    {
      "cell_type": "code",
      "source": [
        "class BOT():\n",
        "    def __init__(self,filename):\n",
        "        self.csv_data=filename\n",
        "        self.clean_data=\"\"\n",
        "        self.dm=\"\"\n",
        "        self.model=\"\"\n",
        "        self.encoder=\"\"\n",
        "\n",
        "\n",
        "    def create_model(self):\n",
        "        self.dm = ML_MODEL(self.csv_data)\n",
        "        self.clean_data, self.encoder=self.dm.get_clean_data()\n",
        "        self.model=self.dm.build_model()\n",
        "\n",
        "    def get_recommentation(self):\n",
        "        #Создаем экземпляр view на основе очищенного набора данных\n",
        "        view=VIEW(self.clean_data, self.encoder)\n",
        "        # Читаем ввод пользователя\n",
        "        X=view.get_user_data()\n",
        "        # Создаем набор данных для построения рекомендации\n",
        "        x = pd.DataFrame(columns=X.keys())\n",
        "        x.loc[0]=X.values()\n",
        "        # Вводим количество объектов в рекомендации\n",
        "        k=view.get_objects_number()\n",
        "        # Строим рекомендацию\n",
        "        y = self.model.kneighbors(x, return_distance=False, n_neighbors=k)\n",
        "        # Выводим найденные объекты на экран\n",
        "        view.print_recomendation(y[0])"
      ],
      "metadata": {
        "id": "nG9WnV3qMRbi"
      },
      "id": "nG9WnV3qMRbi",
      "execution_count": 4,
      "outputs": []
    },
    {
      "cell_type": "code",
      "source": [
        "bot=BOT(\"https://raw.githubusercontent.com/yakushinav/mgimo_2/refs/heads/main/Bengaluru_House_Data.csv\")\n",
        "bot.create_model()\n",
        "bot.get_recommentation()"
      ],
      "metadata": {
        "colab": {
          "base_uri": "https://localhost:8080/"
        },
        "id": "A0cDRSuLMWv4",
        "outputId": "5da91209-20b3-4b00-9f69-b04ee2711b91"
      },
      "id": "A0cDRSuLMWv4",
      "execution_count": 35,
      "outputs": [
        {
          "output_type": "stream",
          "name": "stdout",
          "text": [
            "Введите данные для подбора объекта недвижимости:\n",
            "Тип объекта недвижимости\n",
            "У нас в базе есть следующие типы:\n",
            " Super built-up  Area\n",
            "Plot  Area\n",
            "Built-up  Area\n",
            "Carpet  Area\n",
            "Введите тип объекта недвижимости: Plot\n",
            "Введите количество объектов в рекомендации: 3\n",
            "Вашему запросу соответствуют следующие объекты недвижимости:\n",
            "--------- 9193 ------------\n",
            "area_type       Super built-up  Area\n",
            "availability                       0\n",
            "location                        1249\n",
            "size                               3\n",
            "total_sqft                    1496.0\n",
            "bath                             2.0\n",
            "balcony                          1.0\n",
            "price                          718.0\n",
            "Name: 9193, dtype: object\n",
            "--------- 7881 ------------\n",
            "area_type       Super built-up  Area\n",
            "availability                       1\n",
            "location                        1191\n",
            "size                               4\n",
            "total_sqft                    2000.0\n",
            "bath                             3.0\n",
            "balcony                          2.0\n",
            "price                         1063.0\n",
            "Name: 7881, dtype: object\n",
            "--------- 7655 ------------\n",
            "area_type       Built-up  Area\n",
            "availability                 1\n",
            "location                   964\n",
            "size                         1\n",
            "total_sqft               425.0\n",
            "bath                       1.0\n",
            "balcony                    1.0\n",
            "price                    750.0\n",
            "Name: 7655, dtype: object\n"
          ]
        }
      ]
    }
  ],
  "metadata": {
    "kernelspec": {
      "display_name": "Python 3 (ipykernel)",
      "language": "python",
      "name": "python3"
    },
    "language_info": {
      "codemirror_mode": {
        "name": "ipython",
        "version": 3
      },
      "file_extension": ".py",
      "mimetype": "text/x-python",
      "name": "python",
      "nbconvert_exporter": "python",
      "pygments_lexer": "ipython3",
      "version": "3.9.13"
    },
    "colab": {
      "provenance": []
    }
  },
  "nbformat": 4,
  "nbformat_minor": 5
}